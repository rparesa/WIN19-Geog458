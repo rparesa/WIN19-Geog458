{
 "cells": [
  {
   "cell_type": "code",
   "execution_count": 18,
   "metadata": {},
   "outputs": [],
   "source": [
    "#RachelParesa-PythonLab\n",
    "#Task 1: \n",
    "#For task one, I chose the notebook “How likely will it be a Five-Star review?”. This notebook is a case study based on “a user’s user’s past reviews on Yelp”, where you can not only load the data, but also visualize, model, and make predictions from the model. It’s interesting because I often use Yelp to see reviews of places and look at pictures prior to actually checking it out in person. \n",
    "#https://nbviewer.jupyter.org/github/xun-tang/pyladies_jupyter_demo/blob/master/Predict_Review_Five_Star_Rating.ipynb"
   ]
  },
  {
   "cell_type": "code",
   "execution_count": null,
   "metadata": {},
   "outputs": [],
   "source": [
    "#Task 2: \n",
    "#1. A)\n",
    "#Requests -  http://www.python-requests.org/en/master - lets you send HTTP requests \n",
    "#pyGtK - https://pygobject.readthedocs.io/en/latest/  - GUI toolkit for python \n",
    "#1. B)\n",
    "#Plotnine - https://github.com/has2k1/plotnine  \n",
    "#1. C) \n",
    "#Pandas dataframe - http://pandas.pydata.org/ \n"
   ]
  },
  {
   "cell_type": "code",
   "execution_count": null,
   "metadata": {},
   "outputs": [],
   "source": [
    "#Task 3:\n",
    "#Python has multiple IDE while R has RStudio\n",
    "#R is good for data analysis, Python you need to use libraries to make it able to do the same \n",
    "#Python is space sensitive while R is not"
   ]
  },
  {
   "cell_type": "code",
   "execution_count": 21,
   "metadata": {},
   "outputs": [
    {
     "name": "stdout",
     "output_type": "stream",
     "text": [
      "hello goodbye\n"
     ]
    }
   ],
   "source": [
    "#Task 4: \n",
    "x = 'hello'\n",
    "y = 'goodbye'\n",
    "print(x + ' ' + y) "
   ]
  },
  {
   "cell_type": "code",
   "execution_count": 23,
   "metadata": {},
   "outputs": [
    {
     "name": "stdout",
     "output_type": "stream",
     "text": [
      "hello goodbye 2\n"
     ]
    }
   ],
   "source": [
    "#Task 5: \n",
    "z = 2 \n",
    "print (x +  ' '  + y +  ' ' + str(z))"
   ]
  },
  {
   "cell_type": "code",
   "execution_count": 34,
   "metadata": {},
   "outputs": [
    {
     "name": "stdout",
     "output_type": "stream",
     "text": [
      "['h', 'e', 'l', 'l', 'o', ' ', 'g', 'o', 'o', 'd', 'b', 'y', 'e', ' ', '2']\n",
      "3\n",
      "hello \n"
     ]
    }
   ],
   "source": [
    "#Task 6: \n",
    "temp = x  + ' ' + y  + ' ' + str(z)\n",
    "list6 = list(temp)\n",
    "print(list6)\n",
    "count = list6.count('o')\n",
    "print(count)\n",
    "result = temp.find('goodbye')\n",
    "#Task 7: \n",
    "print(temp[:result])"
   ]
  },
  {
   "cell_type": "code",
   "execution_count": 27,
   "metadata": {},
   "outputs": [
    {
     "name": "stdout",
     "output_type": "stream",
     "text": [
      "hello goodbye \n",
      "hi goodbye \n"
     ]
    }
   ],
   "source": [
    "#Task 8: \n",
    "task8 = temp.strip('2')\n",
    "print(task8)\n",
    "task8b = task8.replace('hello', 'hi')\n",
    "print(task8b)\n"
   ]
  },
  {
   "cell_type": "code",
   "execution_count": 36,
   "metadata": {},
   "outputs": [
    {
     "name": "stdout",
     "output_type": "stream",
     "text": [
      "['hi', 'goodbye', '']\n",
      "['hi', 'howdy', 'goodbye', '']\n"
     ]
    }
   ],
   "source": [
    "#Task 9:\n",
    "list2 = task8b.split(' ')\n",
    "print(list2)\n",
    "list2.insert(1, 'howdy')\n",
    "print(list2)"
   ]
  },
  {
   "cell_type": "code",
   "execution_count": 48,
   "metadata": {},
   "outputs": [
    {
     "name": "stdout",
     "output_type": "stream",
     "text": [
      "1st Quartile\n"
     ]
    }
   ],
   "source": [
    "#Task 10:\n",
    "import random\n",
    "number = random.randint(0,100)\n",
    "\n",
    "if number <= 25: \n",
    "    print '1st Quartile'\n",
    "elif number <= 50 and number > 25: \n",
    "    print '2nd Quartile'\n",
    "elif number <= 75 and number > 50: \n",
    "    print '3rd Quartile'\n",
    "else: \n",
    "    print '4th Quartile'"
   ]
  },
  {
   "cell_type": "code",
   "execution_count": 49,
   "metadata": {},
   "outputs": [
    {
     "name": "stdout",
     "output_type": "stream",
     "text": [
      "Warning, residents of Seattle, temperatures will reach sub-zero temperatures today, please stay indoors if possible\n",
      "Warning, residents of Portland, temperatures will reach sub-zero temperatures today, please stay indoors if possible\n",
      "Warning, residents of Denver, temperatures will reach sub-zero temperatures today, please stay indoors if possible\n",
      "Warning, residents of Chicago, temperatures will reach sub-zero temperatures today, please stay indoors if possible\n",
      "Warning, residents of New York, temperatures will reach sub-zero temperatures today, please stay indoors if possible\n"
     ]
    }
   ],
   "source": [
    "#Task 11: \n",
    "cities = ['Seattle', 'Portland', 'Denver', 'Chicago', 'New York']\n",
    "for city in cities:\n",
    "    print('Warning, residents of ' + city + ', temperatures will reach sub-zero temperatures today, please stay indoors if possible')"
   ]
  },
  {
   "cell_type": "code",
   "execution_count": 55,
   "metadata": {},
   "outputs": [
    {
     "name": "stdout",
     "output_type": "stream",
     "text": [
      "U://Users/Zhang/Geog_458/Washington.shp\n",
      "U://Users/Zhang/Geog_458/California.shp\n",
      "U://Users/Zhang/Geog_458/Nevada.shp\n",
      "U://Users/Zhang/Geog_458/Idaho.shp\n",
      "U://Users/Zhang/Geog_458/Montana.shp\n",
      "U://Users/Zhang/Geog_458/Utah.shp\n",
      "U://Users/Zhang/Geog_458/Colorado.shp\n",
      "U://Users/Zhang/Geog_458/New Mexico.shp\n",
      "['U://Users/Zhang/Geog_458/Washington.shp', 'U://Users/Zhang/Geog_458/California.shp', 'U://Users/Zhang/Geog_458/Nevada.shp', 'U://Users/Zhang/Geog_458/Idaho.shp', 'U://Users/Zhang/Geog_458/Montana.shp', 'U://Users/Zhang/Geog_458/Utah.shp', 'U://Users/Zhang/Geog_458/Colorado.shp', 'U://Users/Zhang/Geog_458/New Mexico.shp']\n"
     ]
    }
   ],
   "source": [
    "#Task 12:\n",
    "list2 = ['Washington', 'California', 'Nevada', 'Idaho', 'Montana', 'Utah', 'Colorado', 'New Mexico']\n",
    "resultobject=[ ] \n",
    "for city in list2:\n",
    "    temp = 'U://Users/Zhang/Geog_458/' + city + '.shp'\n",
    "    resultobject.append(temp)\n",
    "    print(temp)\n",
    "print(resultobject)\n",
    "    "
   ]
  },
  {
   "cell_type": "code",
   "execution_count": 64,
   "metadata": {},
   "outputs": [
    {
     "name": "stdout",
     "output_type": "stream",
     "text": [
      "T-minus 10\n",
      "T-minus 9\n",
      "T-minus 8\n",
      "T-minus 7\n",
      "T-minus 6\n",
      "T-minus 5\n",
      "T-minus 4\n",
      "T-minus 3\n",
      "T-minus 2\n",
      "T-minus 1\n",
      "T-minus 10\n",
      "T-minus 9\n",
      "T-minus 8\n",
      "T-minus 7\n",
      "T-minus 6\n",
      "T-minus 5\n",
      "T-minus 4\n",
      "T-minus 3\n",
      "T-minus 2\n",
      "T-minus 1\n"
     ]
    }
   ],
   "source": [
    "#Task 13:\n",
    "count = 10\n",
    "while count > 0 :\n",
    "    print(\"T-minus \" +  str(count))\n",
    "    count-=1\n",
    "    \n",
    "#Task 13b: \n",
    "def countdown(x):\n",
    "    count = x\n",
    "    while count > 0 :\n",
    "        print(\"T-minus \" +  str(count))\n",
    "        count-=1\n",
    "countdown(10)"
   ]
  },
  {
   "cell_type": "code",
   "execution_count": 65,
   "metadata": {},
   "outputs": [],
   "source": [
    "#Task 14:\n",
    "def quartile_calc(x):\n",
    "    if number <= 25 and number >= 0: \n",
    "        print '1st Quartile'\n",
    "    elif number <= 50 and number > 25: \n",
    "        print '2nd Quartile'\n",
    "    elif number <= 75 and number > 50: \n",
    "        print '3rd Quartile'\n",
    "    elif number <=100 and number > 75: \n",
    "        print '4th Quartile'\n",
    "    elif number < 0 or number > 100:\n",
    "        print 'Error'\n",
    "\n",
    "    \n",
    "        \n",
    "    "
   ]
  },
  {
   "cell_type": "code",
   "execution_count": null,
   "metadata": {},
   "outputs": [],
   "source": []
  }
 ],
 "metadata": {
  "kernelspec": {
   "display_name": "Python 2",
   "language": "python",
   "name": "python2"
  },
  "language_info": {
   "codemirror_mode": {
    "name": "ipython",
    "version": 2
   },
   "file_extension": ".py",
   "mimetype": "text/x-python",
   "name": "python",
   "nbconvert_exporter": "python",
   "pygments_lexer": "ipython2",
   "version": "2.7.15"
  }
 },
 "nbformat": 4,
 "nbformat_minor": 2
}
